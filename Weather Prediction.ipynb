{
 "cells": [
  {
   "cell_type": "code",
   "execution_count": null,
   "metadata": {},
   "outputs": [],
   "source": [
    "# This is just a little Jupyter notebook to try some of the techniques I have been learning recently.\n",
    "\n",
    "import pandas as pd\n",
    "import seaborn as sns\n",
    "import matplotlib.pyplot as plt\n",
    "from sklearn.linear_model import LinearRegression\n",
    "from sklearn.model_selection import train_test_split, KFold, cross_val_predict\n",
    "\n",
    "# import dataset and get some interesting info\n",
    "weather_history = pd.read_csv('weatherHistory.csv')\n",
    "\n",
    "weather_history.info()\n",
    "weather_history.describe()\n",
    "\n",
    "# Now let's visualise some of that data\n",
    "\n",
    "\n",
    "%matplotlib inline\n",
    "from IPython.display import display\n",
    "useful_vars = ['Temperature (C)', 'Apparent Temperature (C)', 'Humidity', 'Wind Speed (km/h)', 'Wind Bearing (degrees)', 'Visibility (km)','Pressure (millibars)']\n",
    "sns.pairplot(data=weather_history, vars=useful_vars)\n",
    "\n",
    "# Ok, so it seems that actual and apparent temperatures are correlated (obviously), let's verify that.\n",
    "plt.scatter(weather_history['Temperature (C)'],weather_history['Apparent Temperature (C)'])\n",
    "\n",
    "# Suspicions confirmed! Let's create a little algorithm to try and do some predictions\n",
    "\n",
    "\n",
    "X = weather_history[\"Temperature (C)\"].values.reshape(-1, 1) # [:, np.newaxis] can also be used\n",
    "y = weather_history[\"Apparent Temperature (C)\"].values\n",
    "\n",
    "# [1 Mark] - Perform Split: \n",
    "X_train, X_test, y_train, y_test = train_test_split(X, y, train_size = 0.8, test_size=0.2, random_state=0)\n",
    "\n",
    "\n",
    "#prepare Crossvalidation split:\n",
    "cv = KFold(n_splits=5, shuffle=True, random_state=0)\n",
    "\n",
    "# [Brownie Points] Visualise Folds\n",
    "for ii, (train_idx, valid_idx) in enumerate(cv.split(weather_history)):\n",
    "    print('Fold {}:\\nTrain ids: {}\\nValid ids: {}\\n'\n",
    "          '\\n----------------------------------------\\n'.format(ii, train_idx, valid_idx))\n",
    "\n",
    "#implement linear regression\n",
    "lm = LinearRegression()\n",
    "lm.fit(X_train,y_train)\n",
    "\n",
    "# [1 Mark] - Report Training Data\n",
    "print('Apparent Temperature = {:.3f} * temperature + {:.3f}'.format(float(lm.coef_), lm.intercept_))\n",
    "\n",
    "\n",
    "#Testing\n",
    "y_pred = lm.predict(X_test)\n",
    "\n",
    "# [2 Marks] Plot both Scatters\n",
    "plt.scatter(X_test, y_test, label='Test Data')\n",
    "plt.scatter(X_test, y_pred, color='r', marker='+', s=50, label='LR pred.')\n",
    "\n",
    "# And there's our cool graph after we have implemented linear regression, and tested it."
   ]
  },
  {
   "cell_type": "code",
   "execution_count": null,
   "metadata": {},
   "outputs": [],
   "source": []
  },
  {
   "cell_type": "code",
   "execution_count": null,
   "metadata": {},
   "outputs": [],
   "source": []
  }
 ],
 "metadata": {
  "kernelspec": {
   "display_name": "Python 3",
   "language": "python",
   "name": "python3"
  },
  "language_info": {
   "codemirror_mode": {
    "name": "ipython",
    "version": 3
   },
   "file_extension": ".py",
   "mimetype": "text/x-python",
   "name": "python",
   "nbconvert_exporter": "python",
   "pygments_lexer": "ipython3",
   "version": "3.7.0"
  }
 },
 "nbformat": 4,
 "nbformat_minor": 2
}
